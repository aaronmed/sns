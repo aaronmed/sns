{
  "cells": [
    {
      "cell_type": "markdown",
      "metadata": {
        "id": "irnc2RYVuYVU"
      },
      "source": [
        "23_24\n",
        "\n",
        "Actividad 3.1 - Métricas de error para los problemas de regresión\n",
        "\n",
        "A partir de los ejemplos indicados realizar los ejercicios propuestos"
      ]
    },
    {
      "cell_type": "code",
      "execution_count": 1,
      "metadata": {
        "colab": {
          "base_uri": "https://localhost:8080/"
        },
        "id": "jVLFdfzxdsfG",
        "outputId": "a6d82610-d5b7-4ceb-b6ff-2a9e8e4b7aa9"
      },
      "outputs": [
        {
          "data": {
            "text/plain": [
              "0.5"
            ]
          },
          "execution_count": 1,
          "metadata": {},
          "output_type": "execute_result"
        }
      ],
      "source": [
        "#Error absoluto medio - mae\n",
        "from sklearn.metrics import mean_absolute_error\n",
        "import numpy as np\n",
        "# Ejemplo 1\n",
        "y_true = [3, -0.5, 2, 7]\n",
        "y_pred = [2.5, 0, 2, 8]\n",
        "mean_absolute_error(y_true, y_pred)\n"
      ]
    },
    {
      "cell_type": "markdown",
      "metadata": {},
      "source": [
        "### Ejer 1: Crear dos vectores/arrays de valores ciertos y valores previstos, y calcular el MAE. ¿Qué valores deberían de tener el array pred para que el error fuese 0? ¿y para que error fuese de 0.25?"
      ]
    },
    {
      "cell_type": "markdown",
      "metadata": {},
      "source": [
        "$MAE = \\frac{1}{n} \\sum_{i=1}^{n} \\lvert y_i - \\hat{y}_i \\rvert$"
      ]
    },
    {
      "cell_type": "code",
      "execution_count": 50,
      "metadata": {
        "id": "67XK1bXegMai"
      },
      "outputs": [
        {
          "name": "stdout",
          "output_type": "stream",
          "text": [
            "Error =  0.0\n",
            "Error =  0.25\n"
          ]
        }
      ],
      "source": [
        "# Si los valores son idénticos, el error es 0\n",
        "y_true = [1, 2, 3]\n",
        "y_pred = [1, 2, 3]\n",
        "print(\"Error = \", mean_absolute_error(y_true, y_pred))\n",
        "\n",
        "# Error = 0.25\n",
        "y_true = [1, 2, 3]\n",
        "y_pred = [1, 2.25, 3.5]\n",
        "print(\"Error = \", mean_absolute_error(y_true, y_pred))"
      ]
    },
    {
      "cell_type": "code",
      "execution_count": null,
      "metadata": {
        "colab": {
          "base_uri": "https://localhost:8080/"
        },
        "id": "3LhzsD30f60T",
        "outputId": "982b9c64-c017-4cb3-b4e7-9f8113937619"
      },
      "outputs": [
        {
          "data": {
            "text/plain": [
              "0.75"
            ]
          },
          "execution_count": 2,
          "metadata": {},
          "output_type": "execute_result"
        }
      ],
      "source": [
        "# Ejemplo 2\n",
        "y_true = [[0.5, 1], [-1, 1], [7, -6]]\n",
        "y_pred = [[0, 2], [-1, 2], [8, -5]]\n",
        "mean_absolute_error(y_true, y_pred)"
      ]
    },
    {
      "cell_type": "markdown",
      "metadata": {},
      "source": [
        "### Ejer 2: Crear dos matrices/arrays de valores ciertos y valores previstos, y calcular el MAE. ¿Qué valores deberían de tener el array pred para que el error fuese 0? ¿y para que error fuese de 0.33?"
      ]
    },
    {
      "cell_type": "code",
      "execution_count": 13,
      "metadata": {
        "id": "LnPx6A4Astfq"
      },
      "outputs": [
        {
          "name": "stdout",
          "output_type": "stream",
          "text": [
            "Error =  0.0\n",
            "Error =  0.3333333333333333\n"
          ]
        }
      ],
      "source": [
        "# Si los valores son idénticos, el error es 0\n",
        "y_true = [[1,2], [2,3], [3,4]]\n",
        "y_pred = [[1,2], [2,3], [3,4]]\n",
        "print(\"Error = \", mean_absolute_error(y_true, y_pred))\n",
        "\n",
        "# Error = 0.33\n",
        "y_true = [[1,2], [2,3], [3,4]]\n",
        "y_pred = [[1,1], [2,2], [3,4]]\n",
        "print(\"Error = \", mean_absolute_error(y_true, y_pred))"
      ]
    },
    {
      "cell_type": "code",
      "execution_count": 15,
      "metadata": {
        "colab": {
          "base_uri": "https://localhost:8080/"
        },
        "id": "59efr-GWgKP6",
        "outputId": "ae6b9c8b-b5ab-4ad1-ee9f-f3b2d2fa70d1"
      },
      "outputs": [
        {
          "data": {
            "text/plain": [
              "0.375"
            ]
          },
          "execution_count": 15,
          "metadata": {},
          "output_type": "execute_result"
        }
      ],
      "source": [
        "# Error cuadrático medio - mse\n",
        "from sklearn.metrics import mean_squared_error\n",
        "y_true = [3, -0.5, 2, 7]\n",
        "y_pred = [2.5, 0.0, 2, 8]\n",
        "mean_squared_error(y_true, y_pred)\n"
      ]
    },
    {
      "cell_type": "markdown",
      "metadata": {},
      "source": [
        "### Ejer 3: Crear dos vectores/arrays de valores ciertos y valores previstos, y calcular el MSE. ¿Qué valores deberían de tener el array pred para que el error fuese 0? ¿y para que error fuese de 0.25?\n",
        "<span style=\"font-size:0.75em;\">*Nota: Es muy interesante comparar los resultados al aplicar mae y mse sobre el mismo conjunto de datos. Podrás obervar que mse \"penaliza más\" (es decir, el número que se obtiene es mayor) con las diferencias entre los valores originales y los predichos que mae*</span>"
      ]
    },
    {
      "cell_type": "markdown",
      "metadata": {},
      "source": [
        "$MSE = \\frac{1}{n} \\sum_{i=1}^{n} (y_i - \\hat{y}_i)^2$"
      ]
    },
    {
      "cell_type": "code",
      "execution_count": 48,
      "metadata": {
        "id": "FLZt6j17u7sE"
      },
      "outputs": [
        {
          "name": "stdout",
          "output_type": "stream",
          "text": [
            "Error =  0.0\n",
            "Error =  0.10416666666666667\n",
            "Error =  0.25\n"
          ]
        }
      ],
      "source": [
        "# Si los valores son idénticos, el error es 0\n",
        "y_true = [1, 2, 3]\n",
        "y_pred = [1, 2, 3]\n",
        "print(\"Error = \", mean_squared_error(y_true, y_pred))\n",
        "\n",
        "# Probando el mismo ejemplo que en el Ejercicio 1\n",
        "y_true = [1, 2, 3]\n",
        "y_pred = [1, 2.25, 3.5]\n",
        "print(\"Error = \", mean_squared_error(y_true, y_pred))\n",
        "\n",
        "# Error = 0.25\n",
        "y_true = [1, 2, 3]\n",
        "y_pred = [1.5, 2.5, 3.5]\n",
        "print(\"Error = \", mean_squared_error(y_true, y_pred))"
      ]
    },
    {
      "cell_type": "markdown",
      "metadata": {},
      "source": [
        "### Ejer 4: Crear dos matrices/arrays de valores ciertos y valores previstos, y calcular el MSE. ¿Qué valores deberían de tener el array pred para que el error fuese 0? ¿y para que error fuese de 0.33?"
      ]
    },
    {
      "cell_type": "code",
      "execution_count": 51,
      "metadata": {
        "id": "M9nZd4nLvIRB"
      },
      "outputs": [
        {
          "name": "stdout",
          "output_type": "stream",
          "text": [
            "Error =  0.0\n",
            "Error =  0.3333333333333333\n"
          ]
        }
      ],
      "source": [
        "# Si los valores son idénticos, el error es 0\n",
        "y_true = [[1,2], [2,3], [3,4]]\n",
        "y_pred = [[1,2], [2,3], [3,4]]\n",
        "print(\"Error = \", mean_absolute_error(y_true, y_pred))\n",
        "\n",
        "# Error = 0.33\n",
        "y_true = [[1,2], [2,3], [3,4]]\n",
        "y_pred = [[1,1], [2,2], [3,4]]\n",
        "print(\"Error = \", mean_absolute_error(y_true, y_pred))"
      ]
    },
    {
      "cell_type": "code",
      "execution_count": 52,
      "metadata": {
        "colab": {
          "base_uri": "https://localhost:8080/"
        },
        "id": "0j3DDJPnBTmF",
        "outputId": "15363258-5e69-496a-fc26-5ccaa583dee4"
      },
      "outputs": [
        {
          "data": {
            "text/plain": [
              "0.3273809523809524"
            ]
          },
          "execution_count": 52,
          "metadata": {},
          "output_type": "execute_result"
        }
      ],
      "source": [
        "# Error de porcentaje absoluto medio - mape\n",
        "from sklearn.metrics import mean_absolute_percentage_error\n",
        "y_true = [3, -0.5, 2, 7]\n",
        "y_pred = [2.5, 0.0, 2, 8]\n",
        "mean_absolute_percentage_error(y_true, y_pred)"
      ]
    },
    {
      "cell_type": "markdown",
      "metadata": {},
      "source": [
        "### Ejer 5: Crear dos vectores/arrays de valores ciertos y valores previstos, y calcular el MAPE. ¿Qué valores deberían de tener el array pred para que el error fuese 0? ¿y para que error fuese de 0.33?"
      ]
    },
    {
      "cell_type": "markdown",
      "metadata": {},
      "source": [
        "$MAPE = \\frac{100\\%}{N} \\sum_{i=1}^{n} \\left\\lvert \\frac{y_i - \\hat{y}_i}{y_i} \\right\\rvert$"
      ]
    },
    {
      "cell_type": "code",
      "execution_count": 58,
      "metadata": {
        "id": "0vsYXdRqB0TE"
      },
      "outputs": [
        {
          "name": "stdout",
          "output_type": "stream",
          "text": [
            "Error =  0.0\n"
          ]
        }
      ],
      "source": [
        "# Si los valores son idénticos, el error es 0\n",
        "y_true = [1, 2, 3]\n",
        "y_pred = [1, 2, 3]\n",
        "print(\"Error = \", mean_absolute_percentage_error(y_true, y_pred))\n",
        "\n",
        "# Error = 0.25\n",
        "\n"
      ]
    },
    {
      "cell_type": "markdown",
      "metadata": {},
      "source": [
        "### Ejer 6: Crear dos matrices/arrays de valores ciertos y valores previstos, y calcular el MAPE. ¿Qué valores deberían de tener el array pred para que el error fuese 0? ¿y para que error fuese de 0.33?"
      ]
    },
    {
      "cell_type": "code",
      "execution_count": 59,
      "metadata": {
        "id": "085pmFVO-cA3"
      },
      "outputs": [
        {
          "name": "stdout",
          "output_type": "stream",
          "text": [
            "Error =  0.0\n"
          ]
        }
      ],
      "source": [
        "# Si los valores son idénticos, el error es 0\n",
        "y_true = [[1,2], [2,3]]\n",
        "y_pred = [[1,2], [2,3]]\n",
        "print(\"Error = \", mean_absolute_percentage_error(y_true, y_pred))\n",
        "\n",
        "# Error = 0.33\n"
      ]
    }
  ],
  "metadata": {
    "colab": {
      "provenance": []
    },
    "kernelspec": {
      "display_name": "Python 3",
      "name": "python3"
    },
    "language_info": {
      "codemirror_mode": {
        "name": "ipython",
        "version": 3
      },
      "file_extension": ".py",
      "mimetype": "text/x-python",
      "name": "python",
      "nbconvert_exporter": "python",
      "pygments_lexer": "ipython3",
      "version": "3.11.5"
    }
  },
  "nbformat": 4,
  "nbformat_minor": 0
}
